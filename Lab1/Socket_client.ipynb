{
 "cells": [
  {
   "cell_type": "code",
   "execution_count": 2,
   "metadata": {},
   "outputs": [
    {
     "name": "stdout",
     "output_type": "stream",
     "text": [
      "Thank you for connecting, Client no. 1\n",
      "Enter your message  hello\n",
      "hi\n",
      "Continue chatting 0/1:  0\n"
     ]
    }
   ],
   "source": [
    "import socket                \n",
    "  \n",
    "# Create a socket object \n",
    "s = socket.socket()          \n",
    "  \n",
    "# Define the port on which you want to connect \n",
    "port=1234      \n",
    "  \n",
    "# connect to the server on local computer \n",
    "s.connect(('127.0.0.1', port))     \n",
    "recieve=s.recv(1024)\n",
    "print (recieve.decode('utf-8')) \n",
    "\n",
    "chat=1\n",
    "\n",
    "while(chat): \n",
    "    # receive data from the server\n",
    "    msg=input(\"Enter your message  \")\n",
    "    s.send(msg.encode('utf-8'))\n",
    "    recieve=s.recv(1024)\n",
    "    print (recieve.decode('utf-8')) \n",
    "    chat=int(input(\"Continue chatting 0/1:  \"))\n",
    "    # close the connection \n",
    "s.close()"
   ]
  },
  {
   "cell_type": "code",
   "execution_count": null,
   "metadata": {},
   "outputs": [],
   "source": []
  }
 ],
 "metadata": {
  "kernelspec": {
   "display_name": "Python 3",
   "language": "python",
   "name": "python3"
  },
  "language_info": {
   "codemirror_mode": {
    "name": "ipython",
    "version": 3
   },
   "file_extension": ".py",
   "mimetype": "text/x-python",
   "name": "python",
   "nbconvert_exporter": "python",
   "pygments_lexer": "ipython3",
   "version": "3.7.1"
  }
 },
 "nbformat": 4,
 "nbformat_minor": 2
}
