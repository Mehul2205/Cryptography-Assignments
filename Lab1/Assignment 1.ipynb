{
 "cells": [
  {
   "cell_type": "markdown",
   "metadata": {},
   "source": [
    "## Q2 WAP in python to implement Euclidean algorithm to find the GCD."
   ]
  },
  {
   "cell_type": "code",
   "execution_count": 6,
   "metadata": {},
   "outputs": [
    {
     "name": "stdout",
     "output_type": "stream",
     "text": [
      "Enter 1st Number: 45\n",
      "Enter 2nd Number: 10\n",
      "The GCD : 5\n"
     ]
    }
   ],
   "source": [
    "# GCD(a,b)\n",
    "\n",
    "def GCD(a,b): \n",
    "    if(b==0): \n",
    "        return a \n",
    "    else: \n",
    "        return GCD(b,a%b) \n",
    "    \n",
    "\n",
    "a = int(input(\"Enter 1st Number: \"))\n",
    "b = int(input(\"Enter 2nd Number: \"))\n",
    "print (\"The GCD : \",end=\"\") \n",
    "print (GCD(a,b)) "
   ]
  },
  {
   "cell_type": "markdown",
   "metadata": {},
   "source": [
    "## Q3 WAP in python to implement extended Euclidean algorithm to find the GCD along with s and t values."
   ]
  },
  {
   "cell_type": "code",
   "execution_count": 7,
   "metadata": {},
   "outputs": [
    {
     "name": "stdout",
     "output_type": "stream",
     "text": [
      "Enter the larger of the two numbers 34\n",
      "Enter the other number 20\n",
      "The GCD of the numbers is  2\n",
      "3 -5\n"
     ]
    }
   ],
   "source": [
    "# s*a+t*b = GCD(a,b)\n",
    "# s = s1 - s2*q\n",
    "# t = t1 - t2*q\n",
    "r1 = int(input('Enter the larger of the two numbers '))\n",
    "r2 = int(input('Enter the other number '))\n",
    "s1 = 1\n",
    "s2 = 0\n",
    "t1 = 0\n",
    "t2 = 1\n",
    "\n",
    "while r2 > 0:\n",
    "    q = r1 // r2\n",
    "    r = r1 % r2\n",
    "    s = s1 - s2*q\n",
    "    t = t1 - t2*q\n",
    "    r1 = r2\n",
    "    r2 = r\n",
    "    s1 = s2\n",
    "    s2 = s\n",
    "    t1 = t2\n",
    "    t2 = t\n",
    "\n",
    "print('The GCD of the numbers is ', r1)\n",
    "print(s1,t1)"
   ]
  },
  {
   "cell_type": "markdown",
   "metadata": {},
   "source": [
    "## Q4 WAP in python to find out the additive and multiplicative inverse pairs of set Zn."
   ]
  },
  {
   "cell_type": "code",
   "execution_count": 8,
   "metadata": {},
   "outputs": [
    {
     "name": "stdout",
     "output_type": "stream",
     "text": [
      "10\n",
      "[(1, 9), (2, 8), (3, 7), (4, 6), (5, 5)]\n"
     ]
    }
   ],
   "source": [
    "# a+b mod n == 0\n",
    "\n",
    "n = int(input())\n",
    "arr = [i for i in range(n)]\n",
    "inverseArr = list()\n",
    "for i in range(len(arr) // 2 + 1):\n",
    "    if i == 0:\n",
    "        continue\n",
    "    inverseArr.append((arr[i], arr[n - i]))\n",
    "print(inverseArr)"
   ]
  },
  {
   "cell_type": "code",
   "execution_count": 9,
   "metadata": {},
   "outputs": [
    {
     "name": "stdout",
     "output_type": "stream",
     "text": [
      "11\n",
      "[(1, 1), (2, 6), (3, 4), (4, 3), (5, 9), (6, 2), (7, 8), (8, 7), (9, 5), (10, 10)]\n"
     ]
    }
   ],
   "source": [
    "# a*b mod n ==1\n",
    "\n",
    "n = int(input())\n",
    "arr = [i for i in range(n)]\n",
    "inverseArr = list()\n",
    "for i in arr:\n",
    "    for j in arr:\n",
    "        if (i * j) % n == 1:\n",
    "            inverseArr.append((i, j))\n",
    "print(inverseArr)"
   ]
  },
  {
   "cell_type": "markdown",
   "metadata": {},
   "source": [
    "## Q5 WAP in python to find out the additive and multiplicative inverse of an integer b using extended Euclidean algorithm of set Zn."
   ]
  },
  {
   "cell_type": "code",
   "execution_count": 10,
   "metadata": {},
   "outputs": [
    {
     "name": "stdout",
     "output_type": "stream",
     "text": [
      "Enter b23\n",
      "Enter N100\n",
      "87\n",
      "77\n"
     ]
    }
   ],
   "source": [
    "# GCD(N,b) = 1\n",
    "\n",
    "def multi(n,b):\n",
    "    # GCD(N,b) = 1\n",
    "    r1 = n\n",
    "    r2 = b\n",
    "    t1 = 0\n",
    "    t2 = 1\n",
    "    while r2 > 0:\n",
    "        q = r1 // r2\n",
    "        r = r1 % r2\n",
    "        t = t1 - q*t2\n",
    "        r1 = r2\n",
    "        r2 = r\n",
    "        t1 = t2\n",
    "        t2 = t\n",
    "    if(t1<0):\n",
    "        print(t2+t1)\n",
    "    else:\n",
    "        print(t1)\n",
    "\n",
    "# a = N-b\n",
    "def addit(n,b):\n",
    "    print(n - b)\n",
    "\n",
    "b = int(input('Enter b'))\n",
    "n = int(input('Enter N'))\n",
    "multi(n,b)\n",
    "addit(n,b)"
   ]
  },
  {
   "cell_type": "code",
   "execution_count": null,
   "metadata": {},
   "outputs": [],
   "source": []
  }
 ],
 "metadata": {
  "kernelspec": {
   "display_name": "Python 3",
   "language": "python",
   "name": "python3"
  },
  "language_info": {
   "codemirror_mode": {
    "name": "ipython",
    "version": 3
   },
   "file_extension": ".py",
   "mimetype": "text/x-python",
   "name": "python",
   "nbconvert_exporter": "python",
   "pygments_lexer": "ipython3",
   "version": "3.7.1"
  }
 },
 "nbformat": 4,
 "nbformat_minor": 2
}
