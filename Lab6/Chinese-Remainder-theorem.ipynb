{
 "cells": [
  {
   "cell_type": "code",
   "execution_count": 1,
   "metadata": {},
   "outputs": [],
   "source": [
    "# Reduce function is used in next code block\n",
    "from functools import reduce"
   ]
  },
  {
   "cell_type": "code",
   "execution_count": 2,
   "metadata": {},
   "outputs": [],
   "source": [
    "def chinese_remainder(n, a):\n",
    "    sum = 0\n",
    "    # Multipliction of all elements of all elements present in the list\n",
    "    prod = reduce(lambda a, b: a*b, n)\n",
    "    #print(prod)\n",
    "    \n",
    "    for n_i, a_i in zip(n, a):\n",
    "        p = prod / n_i\n",
    "        #print(n_i, a_i, p)\n",
    "        sum += a_i * modInverse(p, n_i) * p\n",
    "        #print(sum)\n",
    "    return sum % prod\n",
    "\n",
    "def modInverse(a, m) : \n",
    "    a = a % m; \n",
    "    for x in range(1, m) : \n",
    "        if ((a * x) % m == 1) : \n",
    "            return x \n",
    "    return 1"
   ]
  },
  {
   "cell_type": "code",
   "execution_count": 3,
   "metadata": {},
   "outputs": [
    {
     "name": "stdout",
     "output_type": "stream",
     "text": [
      "3 4 5\n",
      "2 3 1\n",
      "x is 11.0\n"
     ]
    }
   ],
   "source": [
    "# Try these input or something else and get the output\n",
    "# num = 3 4 5\n",
    "# rem = 2 3 1\n",
    "# Ans = 11\n",
    "num = list(map(int, input().split()))\n",
    "rem = list(map(int, input().split()))\n",
    "print(\"x is\", chinese_remainder(num, rem)) "
   ]
  }
 ],
 "metadata": {
  "kernelspec": {
   "display_name": "Python 3",
   "language": "python",
   "name": "python3"
  },
  "language_info": {
   "codemirror_mode": {
    "name": "ipython",
    "version": 3
   },
   "file_extension": ".py",
   "mimetype": "text/x-python",
   "name": "python",
   "nbconvert_exporter": "python",
   "pygments_lexer": "ipython3",
   "version": "3.7.1"
  }
 },
 "nbformat": 4,
 "nbformat_minor": 4
}
