{
 "cells": [
  {
   "cell_type": "markdown",
   "metadata": {},
   "source": [
    "### Q1. Alice needs to send the message “Enemy attacks tonight” to Bob.\n",
    "### They agreed to use keyed transposition cipher with key value: 31452.\n",
    "### Implement double transposition cipher over it and generate the ciphertext."
   ]
  },
  {
   "cell_type": "code",
   "execution_count": 5,
   "metadata": {},
   "outputs": [],
   "source": [
    "import re"
   ]
  },
  {
   "cell_type": "code",
   "execution_count": 6,
   "metadata": {},
   "outputs": [
    {
     "name": "stdout",
     "output_type": "stream",
     "text": [
      "3 1 4 5 2\n",
      "ENTER MSG:Enemy attacks tonight\n",
      "[2, 5, 1, 3, 4]\n",
      "TIYTEAOXHMCSEANGTKTN\n",
      "ENEMYATTACKSTONIGHTX\n"
     ]
    }
   ],
   "source": [
    "key = list(map(int, input().split()))\n",
    "msg=str(input(\"ENTER MSG:\"))\n",
    "dkey = [key.index(i)+1 for i in range(1, len(key)+1)]\n",
    "print(dkey)\n",
    "def encrypt(msg):  #Encryption\n",
    "    msg=msg.upper()\n",
    "    cleanMsg = re.sub('\\W+','', msg)\n",
    "    if len(cleanMsg)%len(key)!=0:\n",
    "        cleanMsg=cleanMsg[:]+'X'*(len(key) - len(cleanMsg)%len(key))\n",
    "        \n",
    "    encMsg = ''\n",
    "    for i in range(0, len(cleanMsg), len(key)):\n",
    "        for j in range(len(key)):\n",
    "            encMsg = encMsg + cleanMsg[i + key[(j)%len(key)]-1]\n",
    "    \n",
    "    l1 = list(encMsg)\n",
    "    \n",
    "    l2 = list()\n",
    "    for i in range(len(key)):\n",
    "        for j in range(len(encMsg)//len(key)):\n",
    "            l2.append(encMsg[i+len(key)*j])\n",
    "    \n",
    "    Final_cipher_text = ''.join(l2)\n",
    "    return Final_cipher_text\n",
    "    \n",
    "def decrypt(Final_cipher_text):\n",
    "    Final_cipher_text = Final_cipher_text.upper()\n",
    "    l1 = list(Final_cipher_text)\n",
    "    \n",
    "    l2 = list()\n",
    "    for i in range(len(Final_cipher_text)//len(key)):\n",
    "        for j in range(len(key)):\n",
    "            l2.append(Final_cipher_text[i+(len(Final_cipher_text)//len(key))*j])\n",
    "    \n",
    "    encMsg = ''.join(l2)\n",
    "    \n",
    "    plain_text = ''\n",
    "    for i in range(0, len(Final_cipher_text), len(key)):\n",
    "        for j in range(len(key)):\n",
    "            plain_text = plain_text + encMsg[i + dkey[(j)%len(key)]-1]\n",
    "    return plain_text\n",
    "    \n",
    "cyText = encrypt(msg)\n",
    "final_cyText = encrypt(cyText)\n",
    "print(final_cyText)\n",
    "pnText = decrypt(final_cyText)\n",
    "final_pnText = decrypt(pnText)\n",
    "print(final_pnText)"
   ]
  },
  {
   "cell_type": "markdown",
   "metadata": {},
   "source": [
    "### Q2. Create a key stream with linear feedback shift register with 4 cells in which b4= b1 xor b0.\n",
    "### Show the value of output for 20 transitions (if the seed is 0001)."
   ]
  },
  {
   "cell_type": "code",
   "execution_count": 2,
   "metadata": {},
   "outputs": [
    {
     "name": "stdout",
     "output_type": "stream",
     "text": [
      "Enter the initial seed0001\n",
      "Initial - [1, 0, 0, 0, 1]\n",
      "How many transition you want to display??20\n",
      "0 : [0, 1, 0, 0, 0]\n",
      "1 : [0, 0, 1, 0, 0]\n",
      "2 : [1, 0, 0, 1, 0]\n",
      "3 : [1, 1, 0, 0, 1]\n",
      "4 : [0, 1, 1, 0, 0]\n",
      "5 : [1, 0, 1, 1, 0]\n",
      "6 : [0, 1, 0, 1, 1]\n",
      "7 : [1, 0, 1, 0, 1]\n",
      "8 : [1, 1, 0, 1, 0]\n",
      "9 : [1, 1, 1, 0, 1]\n",
      "10 : [1, 1, 1, 1, 0]\n",
      "11 : [0, 1, 1, 1, 1]\n",
      "12 : [0, 0, 1, 1, 1]\n",
      "13 : [0, 0, 0, 1, 1]\n",
      "14 : [1, 0, 0, 0, 1]\n",
      "15 : [0, 1, 0, 0, 0]\n",
      "16 : [0, 0, 1, 0, 0]\n",
      "17 : [1, 0, 0, 1, 0]\n",
      "18 : [1, 1, 0, 0, 1]\n",
      "19 : [0, 1, 1, 0, 0]\n",
      "Key- 10001001101011110001\n"
     ]
    }
   ],
   "source": [
    "R1 = list(map(int, input('Enter the initial seed')))\n",
    "b4 = R1[-1]^R1[-2]\n",
    "R1.insert(0,b4)\n",
    "print('Initial -',R1)\n",
    "key = ''\n",
    "T = int(input('How many transition you want to display??'))\n",
    "for i in range(T):\n",
    "    key = key + str(R1.pop(-1))\n",
    "    b4 = R1[-1]^R1[-2]\n",
    "    R1.insert(0,b4)\n",
    "    print(i,':',R1)\n",
    "print('Key-',key)"
   ]
  },
  {
   "cell_type": "markdown",
   "metadata": {},
   "source": [
    "### Q3. Write a code to encrypt a message A Midsummer Night's Dream, which is written by Shakespeare.\n",
    "### You have to use key: SWINDON and keyed transposition cipher row-column."
   ]
  },
  {
   "cell_type": "code",
   "execution_count": 18,
   "metadata": {},
   "outputs": [
    {
     "name": "stdout",
     "output_type": "stream",
     "text": [
      "['A', 'B', 'C', 'D', 'E', 'F', 'G', 'H', 'I', 'J', 'K', 'L', 'M', 'N', 'O', 'P', 'Q', 'R', 'S', 'T', 'U', 'V', 'W', 'X', 'Y', 'Z']\n"
     ]
    }
   ],
   "source": [
    "dict2 = {'A':0, 'B':1, 'C':2, 'D':3, 'E':4, 'F':5, 'G':6, 'H':7, 'I':8, 'J':9, 'K':10, 'L':11, 'M':12, 'N':13, 'O':14, 'P':15, 'Q':16, 'R':17, 'S':18, 'T':19, 'U':20, 'V':21, 'W':22, 'X':23, 'Y':24, 'Z':25}\n",
    "l1 = [i for i in dict2]\n",
    "print(l1)"
   ]
  },
  {
   "cell_type": "code",
   "execution_count": 3,
   "metadata": {},
   "outputs": [
    {
     "name": "stdout",
     "output_type": "stream",
     "text": [
      "swindon\n",
      "[19, 23, 9, 14, 4, 15, 14]\n",
      "[6, 7, 2, 3, 1, 5, 4]\n"
     ]
    }
   ],
   "source": [
    "LETTERS = ['A', 'B', 'C', 'D', 'E', 'F', 'G', 'H', 'I', 'J', 'K', 'L', 'M', 'N', 'O', 'P', 'Q', 'R', 'S', 'T', 'U', 'V', 'W', 'X', 'Y', 'Z']\n",
    "key = input()\n",
    "key = key.upper()\n",
    "K1 = list(key)\n",
    "A = list()\n",
    "for i in K1:\n",
    "    A.append(LETTERS.index(i)+1)\n",
    "print(A)\n",
    "l1 = list()\n",
    "for i in range(len(A)):\n",
    "    if(A[i] in l1):\n",
    "        for j in range(len(A)):\n",
    "            if(A[j] > A[i]):\n",
    "                A[j] = A[j] +1\n",
    "            elif(i<j and A[j] == A[i]):\n",
    "                A[j] = A[j] +1\n",
    "        for j in range(len(l1)):\n",
    "            if(l1[j] > A[i]):\n",
    "                l1[j] = l1[j] +1\n",
    "       \n",
    "        A[i] = A[i]+1\n",
    "    l1.append(A[i])   \n",
    "B = sorted(A)\n",
    "L_final = [B.index(i)+1 for i in A]\n",
    "print(L_final)"
   ]
  },
  {
   "cell_type": "code",
   "execution_count": 27,
   "metadata": {},
   "outputs": [
    {
     "name": "stdout",
     "output_type": "stream",
     "text": [
      "[5, 3, 4, 6, 1, 7, 2]\n",
      "[19, 23, 9, 14, 4, 15]\n"
     ]
    }
   ],
   "source": []
  },
  {
   "cell_type": "markdown",
   "metadata": {},
   "source": [
    "### Q4. Find the result of multiplying P1=000100110 and P2=10011110 with irreducible polynomial 100011010 (nine bits)."
   ]
  },
  {
   "cell_type": "code",
   "execution_count": 16,
   "metadata": {},
   "outputs": [
    {
     "name": "stdout",
     "output_type": "stream",
     "text": [
      "P1-000100110\n",
      "P2-10011110\n",
      "IrrPoly100011011\n",
      "10011110\n",
      "100111100\n",
      "Final 100111\n",
      "1001110\n",
      "Final 1101221\n",
      "10011100\n",
      "100111000\n",
      "1000110\n",
      "Final 2101331\n",
      "00101111\n"
     ]
    }
   ],
   "source": [
    "def xor(a, b, length):\n",
    "    a1 = list(map(int, str(a)))\n",
    "    b1 = list(map(int, str(b)))\n",
    "    c1 = list()\n",
    "    for i in range(length):\n",
    "        c1.append(str(a1[i]^b1[i]))\n",
    "    m = ''.join(c1)\n",
    "    return int(m)\n",
    "\n",
    "P1 = int(input('P1-'))\n",
    "P2 = int(input('P2-'))\n",
    "irrPolynomial = int(input('IrrPoly'))\n",
    "\n",
    "final_L1 = 0\n",
    "if(P1>P2):\n",
    "    P1, P2 = P2, P1\n",
    "\n",
    "l1 = list(map(int, str(P1)))\n",
    "for i in range(len(l1)-1, -1, -1):\n",
    "    if(len(str(P2)) == 9):\n",
    "        P2 = xor(P2, irrPolynomial, len(str(irrPolynomial)))\n",
    "    if(l1[i] == 1):\n",
    "        final_L1 = final_L1 + P2\n",
    "    P2 = P2*10\n",
    "l_max = list(map(int, str(final_L1)))\n",
    "l_m = [str(i%2) for i in l_max]\n",
    "lk = ''.join(l_m)\n",
    "lk = lk.zfill(8)\n",
    "print(lk)"
   ]
  },
  {
   "cell_type": "code",
   "execution_count": 47,
   "metadata": {},
   "outputs": [
    {
     "name": "stdout",
     "output_type": "stream",
     "text": [
      "91147748\n"
     ]
    }
   ],
   "source": []
  },
  {
   "cell_type": "code",
   "execution_count": null,
   "metadata": {},
   "outputs": [],
   "source": []
  }
 ],
 "metadata": {
  "kernelspec": {
   "display_name": "Python 3",
   "language": "python",
   "name": "python3"
  },
  "language_info": {
   "codemirror_mode": {
    "name": "ipython",
    "version": 3
   },
   "file_extension": ".py",
   "mimetype": "text/x-python",
   "name": "python",
   "nbconvert_exporter": "python",
   "pygments_lexer": "ipython3",
   "version": "3.7.1"
  }
 },
 "nbformat": 4,
 "nbformat_minor": 2
}
