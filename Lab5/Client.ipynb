{
 "cells": [
  {
   "cell_type": "code",
   "execution_count": 1,
   "metadata": {},
   "outputs": [],
   "source": [
    "import random\n",
    "import hashlib"
   ]
  },
  {
   "cell_type": "code",
   "execution_count": 2,
   "metadata": {},
   "outputs": [],
   "source": [
    "def gcd(a,b): \n",
    "    if b==0: \n",
    "        return a \n",
    "    else: \n",
    "        return gcd(b,a%b)"
   ]
  },
  {
   "cell_type": "code",
   "execution_count": 3,
   "metadata": {},
   "outputs": [],
   "source": [
    "def isPrime(n) : \n",
    "    # Corner cases \n",
    "    if (n <= 1) : \n",
    "        return False\n",
    "    if (n <= 3) : \n",
    "        return True\n",
    "   \n",
    "    # This is checked so that we can skip  \n",
    "    # middle five numbers in below loop \n",
    "    if (n % 2 == 0 or n % 3 == 0) : \n",
    "        return False\n",
    "   \n",
    "    i = 5\n",
    "    while(i * i <= n) : \n",
    "        if (n % i == 0 or n % (i + 2) == 0) : \n",
    "            return False\n",
    "        i = i + 6\n",
    "   \n",
    "    return True"
   ]
  },
  {
   "cell_type": "code",
   "execution_count": 4,
   "metadata": {},
   "outputs": [],
   "source": [
    "# Get a prime number\n",
    "def generatePrime(num = 100):\n",
    "    L1 = []\n",
    "    for i in range(60, num + 1): \n",
    "        if isPrime(i):\n",
    "            L1.append(i)\n",
    "    \n",
    "    p = random.choice(L1)\n",
    "    L1.pop(L1.index(p))\n",
    "    q = random.choice(L1)\n",
    "    \n",
    "    t = (p-1)*(q-1)\n",
    "    n = p*q\n",
    "    \n",
    "    for e in range(2,t): \n",
    "        if gcd(e,t)== 1: \n",
    "            break\n",
    "\n",
    "    for i in range(1,10): \n",
    "        x = 1 + i*t \n",
    "        if x % e == 0: \n",
    "            d = int(x/e) \n",
    "            break\n",
    "    \n",
    "    return e,d,n"
   ]
  },
  {
   "cell_type": "code",
   "execution_count": 5,
   "metadata": {},
   "outputs": [],
   "source": [
    "Alphabet_List = {'A': '01', 'B': '02', 'C': '03', 'D': '04', 'E': '05', 'F': '06', 'G': '07', 'H': '08', 'I': '09', 'J': '10',\n",
    "                 'K': '11', 'L': '12', 'M': '13', 'N': '14', 'O': '15', 'P': '16', 'Q': '17', 'R': '18', 'S': '19', 'T': '20',\n",
    "                 'U': '21', 'V': '22', 'W': '23', 'X': '24', 'Y': '25', 'Z': '26', ' ': '27', '1':'28', '2':'29', '3':'30',\n",
    "                 '4':'31', '5':'32', '6':'33', '7':'34', '8':'35', '9':'36', '0':'37'}\n",
    "\n",
    "key_list = list(Alphabet_List.keys()) \n",
    "val_list = list(Alphabet_List.values()) \n",
    "\n",
    "\n",
    "def convertText(msg,Ekey, N):\n",
    "    li = list(msg)\n",
    "    lii = [Alphabet_List[i] for i in li]\n",
    "    if(len(lii)%2 != 0):\n",
    "        lii.append('27')\n",
    "    l1 = [int(lii[i]+lii[i+1]) for i in range(0,len(lii),2)]\n",
    "    ctt = [str(pow(no,Ekey)%N).zfill(4) for no in l1] \n",
    "    ct = ''.join(ctt)\n",
    "    return ct\n",
    "\n",
    "def decrypt(cipherText, Dkey, N):\n",
    "    text = [str(pow(int(cipherText[i:i+4]),Dkey)%N).zfill(4) for i in range(0, len(cipherText), 4)]\n",
    "    \n",
    "    L1 = []\n",
    "    for i in text:\n",
    "        L1.append(i[0:2])\n",
    "        L1.append(i[2:4])\n",
    "    \n",
    "    L2 = []\n",
    "    for i in L1:\n",
    "        L2.append(key_list[val_list.index(i)])\n",
    "    \n",
    "    msg = ''.join(L2)\n",
    "    return msg"
   ]
  },
  {
   "cell_type": "code",
   "execution_count": 7,
   "metadata": {},
   "outputs": [
    {
     "name": "stdout",
     "output_type": "stream",
     "text": [
      "11 5183\n",
      "Message from Server:Hello UDP Client!. My Pulbic key is: 11 5183\n",
      "Server IP Address:('192.168.43.125', 2000)\n",
      "HI\n",
      "Enter your reply  Hello 11 5183\n",
      "Enter your reply  Bye 11 5183\n"
     ]
    },
    {
     "ename": "SystemExit",
     "evalue": "0",
     "output_type": "error",
     "traceback": [
      "An exception has occurred, use %tb to see the full traceback.\n",
      "\u001b[1;31mSystemExit\u001b[0m\u001b[1;31m:\u001b[0m 0\n"
     ]
    },
    {
     "name": "stdout",
     "output_type": "stream",
     "text": [
      "BYE \n"
     ]
    }
   ],
   "source": [
    "import socket,sys,threading\n",
    "\n",
    "e,d,n = generatePrime()\n",
    "\n",
    "msgFromClient = \"Hello UDP Server!. My public Key is: \"+str(e)+\" \"+str(n)\n",
    "bytesToSend = str.encode(msgFromClient)\n",
    "serverAddressPort = (\"192.168.43.125\", 2000)\n",
    "bufferSize = 1024\n",
    "def recv(E, N):\n",
    "    while True:\n",
    "        recieve= UDPClientSocket.recvfrom(bufferSize)\n",
    "        msg = recieve[0].decode('utf-8')\n",
    "        token = msg[-64:]\n",
    "        cipherText = msg[:-64]\n",
    "        plainText = decrypt(cipherText, d, n)\n",
    "        \n",
    "        tk = hashlib.md5(cipherText.encode())\n",
    "        tk = tk.hexdigest().upper()\n",
    "        tk1 = decrypt(token, E, N)\n",
    "        if(tk.upper() == tk1.upper()):\n",
    "            if not recieve[0]: sys.exit(0)\n",
    "            \n",
    "            print(plainText)            \n",
    "\n",
    "def Send(sA):\n",
    "    while True:\n",
    "        message=input(\"Enter your reply  \").upper()\n",
    "        try:\n",
    "            L1 = list(message.split())\n",
    "            if(len(L1) != 3):\n",
    "                raise Exception('Error')\n",
    "        except:\n",
    "            print('You must provide all three input in this sequence: Message , eKey, N')\n",
    "            sys.exit(0)\n",
    "        \n",
    "        cipherText = convertText(L1[0], int(L1[1]), int(L1[2]))\n",
    "        m = hashlib.md5(cipherText.encode()).hexdigest().upper()\n",
    "        N1 = convertText(m, d, n)\n",
    "        ct = cipherText+N1\n",
    "        UDPClientSocket.sendto(ct.encode('utf-8'),sA)\n",
    "        if L1[0]=='BYE':\n",
    "            sys.exit(0)\n",
    "\n",
    "# Create a UDP socket at client side\n",
    "UDPClientSocket = socket.socket(family=socket.AF_INET, type=socket.SOCK_DGRAM)\n",
    "\n",
    "# Send to server using created UDP socket\n",
    "UDPClientSocket.sendto(bytesToSend, serverAddressPort)\n",
    "\n",
    "bytesAddressPair = UDPClientSocket.recvfrom(bufferSize)\n",
    "message = bytesAddressPair[0].decode('utf-8')\n",
    "l1 = list(message.split())\n",
    "E = int(l1[-2])\n",
    "N = int(l1[-1])\n",
    "print(E,N)\n",
    "address = bytesAddressPair[1]\n",
    "\n",
    "clientMsg = \"Message from Server:{}\".format(message)\n",
    "clientIP  = \"Server IP Address:{}\".format(address)\n",
    "\n",
    "print(clientMsg)\n",
    "print(clientIP)\n",
    "\n",
    "while(True):    \n",
    "    threading.Thread(target=recv, args=(E,N)).start()\n",
    "    threading.Thread(target=Send(address)).start()"
   ]
  },
  {
   "cell_type": "code",
   "execution_count": null,
   "metadata": {},
   "outputs": [],
   "source": []
  }
 ],
 "metadata": {
  "kernelspec": {
   "display_name": "Python 3",
   "language": "python",
   "name": "python3"
  },
  "language_info": {
   "codemirror_mode": {
    "name": "ipython",
    "version": 3
   },
   "file_extension": ".py",
   "mimetype": "text/x-python",
   "name": "python",
   "nbconvert_exporter": "python",
   "pygments_lexer": "ipython3",
   "version": "3.7.1"
  }
 },
 "nbformat": 4,
 "nbformat_minor": 2
}
