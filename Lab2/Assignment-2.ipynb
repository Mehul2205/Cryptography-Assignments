{
 "cells": [
  {
   "cell_type": "markdown",
   "metadata": {},
   "source": [
    "## Q1. WAP to find the solutions of equations:\n",
    "#### a. 14x=12mod 18\n",
    "#### b. 3x+4=6 mod 13"
   ]
  },
  {
   "cell_type": "code",
   "execution_count": null,
   "metadata": {},
   "outputs": [],
   "source": [
    "def GCD(a,b): \n",
    "    if(b==0): \n",
    "        return a \n",
    "    else: \n",
    "        return GCD(b,a%b) "
   ]
  },
  {
   "cell_type": "code",
   "execution_count": null,
   "metadata": {},
   "outputs": [],
   "source": [
    "def multiplicativeInverse(n,b):\n",
    "    # GCD(N,b) = 1\n",
    "    r1 = n\n",
    "    r2 = b\n",
    "    t1 = 0\n",
    "    t2 = 1\n",
    "    while r2 > 0:\n",
    "        q = r1 // r2\n",
    "        r = r1 % r2\n",
    "        t = t1 - q*t2\n",
    "        r1 = r2\n",
    "        r2 = r\n",
    "        t1 = t2\n",
    "        t2 = t\n",
    "    if(t1<0):\n",
    "        return t2+t1\n",
    "    else:\n",
    "        return t1"
   ]
  },
  {
   "cell_type": "code",
   "execution_count": null,
   "metadata": {},
   "outputs": [],
   "source": [
    "# a*x+ c = b(mod n)\n",
    "a = int(input('Coefficient of x'))\n",
    "b = int(input('Enter the value'))\n",
    "n = int(input('Enter the value of n'))\n",
    "c = int(input('Enter the value of c'))\n",
    "b = b-c\n",
    "z = GCD(a,n)\n",
    "\n",
    "if(b%z != 0):\n",
    "    print('No Solutions')\n",
    "else:\n",
    "    \n",
    "    a = a//z\n",
    "    b = b//z\n",
    "    n = n//z\n",
    "    m = multiplicativeInverse(n,a)\n",
    "    k = list()\n",
    "    k.append((b*m)%n)\n",
    "    for i in range(1,z):\n",
    "        x = k[0] + i*n\n",
    "        k.append(x)\n",
    "    print(k)"
   ]
  },
  {
   "cell_type": "markdown",
   "metadata": {},
   "source": [
    "## Q2. WAP to implement Additive cipher (key=20), Multiplicative cipher (key=15) and affine cipher (key=15, 20). To encrypt the message “this is an exercise”."
   ]
  },
  {
   "cell_type": "code",
   "execution_count": null,
   "metadata": {},
   "outputs": [],
   "source": [
    "dict1 ={'a':0, 'b':1, 'c':2, 'd':3, 'e':4, 'f':5, 'g':6, 'h':7, 'i':8, 'j':9, 'k':10, 'l':11, 'm':12, 'n':13, 'o':14, 'p':15, 'q':16, 'r':17, 's':18, 't':19, 'u':20, 'v':21, 'w':22, 'x':23, 'y':24, 'z':25}\n",
    "dict2 = {'A':0, 'B':1, 'C':2, 'D':3, 'E':4, 'F':5, 'G':6, 'H':7, 'I':8, 'J':9, 'K':10, 'L':11, 'M':12, 'N':13, 'O':14, 'P':15, 'Q':16, 'R':17, 'S':18, 'T':19, 'U':20, 'V':21, 'W':22, 'X':23, 'Y':24, 'Z':25}"
   ]
  },
  {
   "cell_type": "code",
   "execution_count": null,
   "metadata": {},
   "outputs": [],
   "source": [
    "key_list = list(dict2.keys()) \n",
    "val_list = list(dict2.values())\n",
    "\n",
    "print(key_list)\n",
    "print(val_list)"
   ]
  },
  {
   "cell_type": "code",
   "execution_count": null,
   "metadata": {},
   "outputs": [],
   "source": [
    "C = (input('Enter a Stirng'))\n",
    "k = 20\n",
    "P = ''\n",
    "C = C.upper()\n",
    "for i in C:\n",
    "    if(i == ' '):\n",
    "        P = P+' '\n",
    "        continue\n",
    "    z = (k+dict2[i])%26\n",
    "    P = P + key_list[val_list.index(z)]\n",
    "print(P)\n",
    "M = ''\n",
    "for i in P:\n",
    "    if(i == ' '):\n",
    "        M = M+' '\n",
    "        continue\n",
    "    x = dict2[i]-k\n",
    "    if(x<0):\n",
    "        x = x+26\n",
    "    M = M + key_list[val_list.index(x)]\n",
    "print(M)\n",
    "    "
   ]
  },
  {
   "cell_type": "code",
   "execution_count": null,
   "metadata": {},
   "outputs": [],
   "source": [
    "C = (input('Enter a Stirng'))\n",
    "k = 15\n",
    "P = ''\n",
    "C = C.upper()\n",
    "for i in C:\n",
    "    if(i == ' '):\n",
    "        P = P+' '\n",
    "        continue\n",
    "    z = (k*dict2[i])%26\n",
    "    P = P + key_list[val_list.index(z)]\n",
    "print(P)\n",
    "k1 = multiplicativeInverse(26,k)\n",
    "M = ''\n",
    "for i in P:\n",
    "    if(i == ' '):\n",
    "        M = M+' '\n",
    "        continue\n",
    "    x = (dict2[i]*k1)%26\n",
    "    M = M + key_list[val_list.index(x)]\n",
    "print(M)\n",
    "    "
   ]
  },
  {
   "cell_type": "code",
   "execution_count": null,
   "metadata": {},
   "outputs": [],
   "source": [
    "C = (input('Enter a Stirng'))\n",
    "k1 = 15\n",
    "k2 = 20\n",
    "P = ''\n",
    "C = C.upper()\n",
    "for i in C:\n",
    "    if(i == ' '):\n",
    "        P = P+' '\n",
    "        continue\n",
    "    z = (k1*dict2[i])%26\n",
    "    t = (k2+z)%26\n",
    "    P = P + key_list[val_list.index(t)]\n",
    "print(P)\n",
    "k1_inv = multiplicativeInverse(26,k1)\n",
    "M = ''\n",
    "for i in P:\n",
    "    if(i == ' '):\n",
    "        M = M+' '\n",
    "        continue\n",
    "    x = dict2[i]-k2\n",
    "    if(x<0):\n",
    "        x = x+26\n",
    "    y = (x*k1_inv)%26\n",
    "    M = M + key_list[val_list.index(y)]\n",
    "print(M)"
   ]
  },
  {
   "cell_type": "markdown",
   "metadata": {},
   "source": [
    "## Q3. WAP to perform brute force attack on the cipher text “dvvkzecfssprkkve”.\n",
    "#### Ans. MEETINLOBBYATTEN"
   ]
  },
  {
   "cell_type": "markdown",
   "metadata": {},
   "source": [
    "## Q4. WAP to perform brute force attack on the cipher text\n",
    "#### “YMJHFJXFWHNUMJWNXTSJTKYMJJFWQNJXYPSTBSFSIXNRUQJXYHNUMJWX”\n",
    "#### Ans. THECAESARCIPHERISONEOFTHEEARLIESTKNOWNANDSIMPLESTCIPHERS"
   ]
  },
  {
   "cell_type": "code",
   "execution_count": null,
   "metadata": {},
   "outputs": [],
   "source": [
    "P = input('Enter the text->')\n",
    "P = P.upper()\n",
    "for k in range(1,26):\n",
    "    M = ''\n",
    "    for i in P:\n",
    "        if(i == ' '):\n",
    "            M = M+' '\n",
    "            continue\n",
    "        x = dict2[i]-k\n",
    "        if(x<0):\n",
    "            x = x+26\n",
    "        M = M + key_list[val_list.index(x)]\n",
    "    print(M)"
   ]
  },
  {
   "cell_type": "markdown",
   "metadata": {},
   "source": [
    "### Q5. WAP to use brute force attack to decipher the message :\n",
    "#### xpalasxyfgfukpxusogeutkcdgfxanmgnvs\n",
    "#### Assume Affine cipher is used and “ab” is encrypted by “GL”.\n",
    "#### Ans. THEBESTOFAFIGHTISMAKINGUPAFTERWARDS"
   ]
  },
  {
   "cell_type": "code",
   "execution_count": null,
   "metadata": {},
   "outputs": [],
   "source": [
    "P = input('Enter the text->')\n",
    "P = P.upper()\n",
    "k1 = 5\n",
    "k2 = 6\n",
    "k1_inv = multiplicativeInverse(26,k1)\n",
    "M = ''\n",
    "for i in P:\n",
    "    if(i == ' '):\n",
    "        M = M+' '\n",
    "        continue\n",
    "    x = dict2[i]-k2\n",
    "    if(x<0):\n",
    "        x = x+26\n",
    "    y = (x*k1_inv)%26\n",
    "    M = M + key_list[val_list.index(y)]\n",
    "print(M)"
   ]
  },
  {
   "cell_type": "markdown",
   "metadata": {},
   "source": [
    "## Q6. WAP to perform statistical attack on the ciphertext:"
   ]
  },
  {
   "cell_type": "code",
   "execution_count": null,
   "metadata": {},
   "outputs": [],
   "source": [
    "def occurances(cipher):\n",
    "    totals = []\n",
    "    for letter in key_list:\n",
    "        totals.append((cipher.count(letter), letter))\n",
    "    totals.sort()\n",
    "    print(totals)\n",
    "    return totals"
   ]
  },
  {
   "cell_type": "code",
   "execution_count": null,
   "metadata": {},
   "outputs": [],
   "source": [
    "cipher = \"ymnxhtzwxjfnrxytuwtanijdtzbnymijyfnqjipstbqjiljtknrutwyfsyyjhmstqtlnjxfsifuuqnhfyntsymfyfwjzxjinsymjnsyjwsjyizjytymjgwtfisfyzwjtkymnxknjqiymjhtzwxjhtajwxtsqdxjqjhyjiytunhxkthzxxnslknwxytsxtrjfiafshjiytunhxnsnsyjwsjyyjhmstqtlnjxjlbnwjqjxxqfsxrtgnqjnsyjwsjyrzqynhfxyfsiymjsfxjqjhyntstkhzwwjsyfsisjcyljsjwfyntsfuuqnhfyntsxfsixjwanhjxjluunuyaatnudtzbnqqqjfwsmtbymjnsyjwsjybtwpxfsimtbxjwanhjxfsifuuqnhfyntsxfwjuwtanijiytzxjwxtkymjnsyjwsjyymnxpstbqjiljbnqqmjqudtz\"\n",
    "cipher = cipher.upper()\n",
    "inputDensity = occurances(cipher)\n",
    "k = dict2[inputDensity[-1][1]]-dict2['E']\n",
    "M = ''\n",
    "for i in cipher:\n",
    "    if(i == ' '):\n",
    "        M = M+' '\n",
    "        continue\n",
    "    x = dict2[i]-k\n",
    "    if(x<0):\n",
    "        x = x+26\n",
    "    M = M + key_list[val_list.index(x)]\n",
    "print(M)"
   ]
  },
  {
   "cell_type": "markdown",
   "metadata": {},
   "source": [
    "## Q7. WAP to perform statistical and pattern attack over the ciphertext:"
   ]
  },
  {
   "cell_type": "code",
   "execution_count": null,
   "metadata": {},
   "outputs": [],
   "source": [
    "cipher = \"ziolegxkltqodlzgofzkgrxetngxzgzithkofeohstlqfrzteifojxtlgyltexkofuegdhxztklqfregdhxztkftzvgkalvoziygexlgfofztkftzltexkoznzitegxkltoltyytezoctsnlhsozofzgzvghqkzlyoklzofzkgrxeofuzitzitgkngyeknhzgukqhinofesxrofuigvdqfnesqlloeqsqfrhghxsqkqsugkozidlvgkaturtlklqrouozqsloufqzxktlqfrltegfrhkgcorofurtzqoslgyktqsofztkftzltexkoznhkgzgegslqsugkozidlqfrziktqzltuohltecokxltlyoktvqsslitfetngxvossstqkfwgzizitgktzoeqsqlhtezlgyegdhxztkqfrftzvgkaltexkoznqlvtssqligvziqzzitgknolqhhsotrofzitofztkftzziolafgvstrutvossitshngxofrtloufofuqfrrtctsghofultexktqhhsoeqzogflqfrftzvgkahkgzgegslqlvtssqlwxosrofultexktftzvgkal\"\n",
    "cipher = cipher.upper()\n",
    "inputDensity = occurances(cipher)\n",
    "k = dict2[inputDensity[-1][1]]-dict2['E']\n",
    "M = ''\n",
    "for i in cipher:\n",
    "    if(i == ' '):\n",
    "        M = M+' '\n",
    "        continue\n",
    "    x = dict2[i]-k\n",
    "    if(x<0):\n",
    "        x = x+26\n",
    "    M = M + key_list[val_list.index(x)]\n",
    "print(M)"
   ]
  },
  {
   "cell_type": "code",
   "execution_count": null,
   "metadata": {},
   "outputs": [],
   "source": []
  }
 ],
 "metadata": {
  "kernelspec": {
   "display_name": "Python 3",
   "language": "python",
   "name": "python3"
  },
  "language_info": {
   "codemirror_mode": {
    "name": "ipython",
    "version": 3
   },
   "file_extension": ".py",
   "mimetype": "text/x-python",
   "name": "python",
   "nbconvert_exporter": "python",
   "pygments_lexer": "ipython3",
   "version": "3.7.1"
  }
 },
 "nbformat": 4,
 "nbformat_minor": 2
}
